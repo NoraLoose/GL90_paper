{
 "cells": [
  {
   "cell_type": "markdown",
   "metadata": {},
   "source": [
    "# Make KE movies (found in supporting information)"
   ]
  },
  {
   "cell_type": "code",
   "execution_count": 1,
   "metadata": {},
   "outputs": [],
   "source": [
    "import cartopy.crs as ccrs\n",
    "import cmocean\n",
    "cmap = cmocean.cm.thermal\n",
    "cmap.set_bad('w')"
   ]
  },
  {
   "cell_type": "code",
   "execution_count": 2,
   "metadata": {},
   "outputs": [],
   "source": [
    "import numpy as np\n",
    "import matplotlib.pyplot as plt\n",
    "import xarray as xr\n",
    "from dask.diagnostics import ProgressBar\n",
    "import warnings\n",
    "warnings.filterwarnings(\"ignore\")"
   ]
  },
  {
   "cell_type": "code",
   "execution_count": 3,
   "metadata": {},
   "outputs": [],
   "source": [
    "from yamlparser import YAMLParser, read_parameterized_runs, read_unparameterized_runs"
   ]
  },
  {
   "cell_type": "code",
   "execution_count": 4,
   "metadata": {},
   "outputs": [],
   "source": [
    "yp = YAMLParser()"
   ]
  },
  {
   "cell_type": "code",
   "execution_count": 5,
   "metadata": {},
   "outputs": [
    {
     "name": "stdout",
     "output_type": "stream",
     "text": [
      "nw2_0.5deg_N15_KHTH800\n",
      "nw2_0.5deg_N15_KHGL800_hbbl5\n",
      "nw2_0.5deg_N15_KHTH800_vary\n",
      "nw2_0.5deg_N15_KHGL800_vary_hbbl5\n",
      "nw2_0.5deg_N15_EBT_KHTH800\n",
      "nw2_0.5deg_N15_EBT_KHGL800_hbbl5\n",
      "nw2_0.25deg_N15_KHTH300\n",
      "nw2_0.25deg_N15_KHGL300_hbbl1\n",
      "nw2_0.25deg_N15_KHGL300_hbbl5\n",
      "nw2_0.25deg_N15_KHGL300_hbbl20\n",
      "nw2_0.25deg_N15_KHGL300\n",
      "nw2_0.25deg_N15_KHTH800\n",
      "nw2_0.25deg_N15_KHGL800_hbbl5\n",
      "nw2_0.25deg_N15_KHTH300_vary\n",
      "nw2_0.25deg_N15_KHGL300_vary_hbbl5\n",
      "nw2_0.25deg_N15_EBT_KHTH300\n",
      "nw2_0.25deg_N15_EBT_KHGL300_hbbl5\n",
      "nw2_0.125deg_N15_KHTH100\n",
      "nw2_0.125deg_N15_KHGL100_hbbl5\n",
      "nw2_0.125deg_N15_KHTH800\n",
      "nw2_0.125deg_N15_KHGL800_hbbl5\n",
      "nw2_0.125deg_N15_KHTH100_vary\n",
      "nw2_0.125deg_N15_KHGL100_vary_hbbl5\n",
      "nw2_0.125deg_N15_EBT_KHTH100\n",
      "nw2_0.125deg_N15_EBT_KHGL100_hbbl5\n",
      "CPU times: user 9.63 s, sys: 1.57 s, total: 11.2 s\n",
      "Wall time: 1min 48s\n"
     ]
    }
   ],
   "source": [
    "## read parameterized runs\n",
    "exps_param = yp.read('/glade/u/home/noraloose/GL90_paper/config_param.yaml')\n",
    "%time exps_param = read_parameterized_runs(exps_param, read_from_time_list=True)"
   ]
  },
  {
   "cell_type": "code",
   "execution_count": 6,
   "metadata": {},
   "outputs": [
    {
     "name": "stdout",
     "output_type": "stream",
     "text": [
      "CPU times: user 1.09 s, sys: 412 ms, total: 1.5 s\n",
      "Wall time: 15.7 s\n"
     ]
    }
   ],
   "source": [
    "# read unparameterized runs\n",
    "exps_unparam = yp.read('/glade/u/home/noraloose/GL90_paper/config_unparam.yaml')\n",
    "%time exps_unparam = read_unparameterized_runs(exps_unparam)"
   ]
  },
  {
   "cell_type": "code",
   "execution_count": 7,
   "metadata": {},
   "outputs": [],
   "source": [
    "exp_list = [exps_param, exps_unparam]"
   ]
  },
  {
   "cell_type": "code",
   "execution_count": 8,
   "metadata": {},
   "outputs": [],
   "source": [
    "for exps in exp_list:\n",
    "\n",
    "    for exp, v in exps.items():\n",
    "        ds = v['ds']\n",
    "        ds['hKE'] = ds['h'] * ds['KE']\n"
   ]
  },
  {
   "cell_type": "code",
   "execution_count": 9,
   "metadata": {},
   "outputs": [],
   "source": [
    "import matplotlib as mpl\n",
    "import matplotlib.pyplot as plt\n",
    "import matplotlib.pylab as pylab\n",
    "params = {'legend.fontsize': 'large',\n",
    "         'axes.labelsize': 'large',\n",
    "         'axes.titlesize':'large',\n",
    "         'xtick.labelsize':'large',\n",
    "         'ytick.labelsize':'large',\n",
    "         'font.size': 12}\n",
    "pylab.rcParams.update(params)"
   ]
  },
  {
   "cell_type": "markdown",
   "metadata": {},
   "source": [
    "# Movies"
   ]
  },
  {
   "cell_type": "code",
   "execution_count": 10,
   "metadata": {},
   "outputs": [],
   "source": [
    "pw = 700\n",
    "ph = 1080\n",
    "import xmovie\n",
    "from xmovie import Movie"
   ]
  },
  {
   "cell_type": "code",
   "execution_count": 22,
   "metadata": {},
   "outputs": [],
   "source": [
    "def plotfunc_KE(ds, fig, tt, framedim='time'):\n",
    "    vmin = 1e-2\n",
    "    vmax = 1e3\n",
    "    unit = r'm$^3$ s$^{-2}$'\n",
    "    kwargs = {\n",
    "        'norm': mpl.colors.LogNorm(vmin=vmin, vmax=vmax),\n",
    "        'cmap': cmap,\n",
    "        'add_colorbar': False,\n",
    "    }\n",
    "    \n",
    "    ax = fig.subplots(nrows=1, ncols=1, subplot_kw={'projection':ccrs.PlateCarree()})\n",
    "\n",
    "\n",
    "    KE_snapshot = ds['hKE'].sum(dim='zl').isel({framedim:tt}).compute()\n",
    "\n",
    "    p = KE_snapshot.plot(ax=ax, **kwargs)\n",
    "    ax.set_title('Time = %d days' % (5*tt))\n",
    "\n",
    "\n",
    "    ax.set_extent([0, 60, -70, 70], crs=ccrs.PlateCarree())\n",
    "    gl = ax.gridlines(draw_labels=True)\n",
    "    gl.top_labels = False\n",
    "    gl.right_labels = False\n",
    "        \n",
    "\n",
    "    fig.subplots_adjust(right=0.7, wspace=0.3, hspace=0.3)\n",
    "    cax = fig.add_axes([0.7, 0.1, 0.03, 0.8])\n",
    "    cbar = plt.colorbar(p, cax=cax, label=unit, extend='both')\n",
    "    cbar.ax.tick_params(labelsize=16) \n",
    "\n",
    "    fig.suptitle(label)"
   ]
  },
  {
   "cell_type": "markdown",
   "metadata": {},
   "source": [
    "### 1/2 degree"
   ]
  },
  {
   "cell_type": "code",
   "execution_count": 24,
   "metadata": {},
   "outputs": [
    {
     "name": "stdout",
     "output_type": "stream",
     "text": [
      "Movie created at KE_nw2_0.5deg_N15_KHTH800.mp4\n"
     ]
    }
   ],
   "source": [
    "exp_str = 'nw2_0.5deg_N15_KHTH800'\n",
    "ds = exps_param[exp_str]['ds']\n",
    "label = exps_param[exp_str]['label']\n",
    "mov_custom = Movie(ds, plotfunc=plotfunc_KE, pixelwidth=pw, pixelheight=ph, input_check=False)\n",
    "mov_custom.save('/glade/u/home/noraloose/GL90_paper/movies/KE_%s.mp4' %(exp_str), overwrite_existing=True)"
   ]
  },
  {
   "cell_type": "code",
   "execution_count": 25,
   "metadata": {},
   "outputs": [
    {
     "name": "stdout",
     "output_type": "stream",
     "text": [
      "Movie created at KE_nw2_0.5deg_N15_KHGL800_hbbl5.mp4\n"
     ]
    }
   ],
   "source": [
    "exp_str = 'nw2_0.5deg_N15_KHGL800_hbbl5'\n",
    "ds = exps_param[exp_str]['ds']\n",
    "label = exps_param[exp_str]['label']\n",
    "mov_custom = Movie(ds, plotfunc=plotfunc_KE, pixelwidth=pw, pixelheight=ph, input_check=False)\n",
    "mov_custom.save('/glade/u/home/noraloose/GL90_paper/movies/KE_%s.mp4' %(exp_str), overwrite_existing=True)"
   ]
  },
  {
   "cell_type": "markdown",
   "metadata": {},
   "source": [
    "### 1/4 degree"
   ]
  },
  {
   "cell_type": "code",
   "execution_count": 27,
   "metadata": {},
   "outputs": [
    {
     "name": "stdout",
     "output_type": "stream",
     "text": [
      "Movie created at KE_nw2_0.25deg_N15_baseline_hmix20.mp4\n"
     ]
    }
   ],
   "source": [
    "exp_str = 'nw2_0.25deg_N15_baseline_hmix20'\n",
    "ds = exps_unparam[exp_str]['ds']\n",
    "label = exps_unparam[exp_str]['label']\n",
    "mov_custom = Movie(ds, plotfunc=plotfunc_KE, pixelwidth=pw, pixelheight=ph, input_check=False)\n",
    "mov_custom.save('/glade/u/home/noraloose/GL90_paper/movies/KE_%s.mp4' %(exp_str), overwrite_existing=True)"
   ]
  },
  {
   "cell_type": "code",
   "execution_count": 28,
   "metadata": {},
   "outputs": [
    {
     "name": "stdout",
     "output_type": "stream",
     "text": [
      "Movie created at KE_nw2_0.25deg_N15_KHTH300.mp4\n"
     ]
    }
   ],
   "source": [
    "exp_str = 'nw2_0.25deg_N15_KHTH300'\n",
    "ds = exps_param[exp_str]['ds'] \n",
    "label = exps_param[exp_str]['label']\n",
    "mov_custom = Movie(ds, plotfunc=plotfunc_KE, pixelwidth=pw, pixelheight=ph, input_check=False)\n",
    "mov_custom.save('/glade/u/home/noraloose/GL90_paper/movies/KE_%s.mp4' %(exp_str), overwrite_existing=True)"
   ]
  },
  {
   "cell_type": "code",
   "execution_count": 29,
   "metadata": {},
   "outputs": [
    {
     "ename": "KeyboardInterrupt",
     "evalue": "",
     "output_type": "error",
     "traceback": [
      "\u001b[0;31m---------------------------------------------------------------------------\u001b[0m",
      "\u001b[0;31mKeyboardInterrupt\u001b[0m                         Traceback (most recent call last)",
      "Input \u001b[0;32mIn [29]\u001b[0m, in \u001b[0;36m<cell line: 5>\u001b[0;34m()\u001b[0m\n\u001b[1;32m      3\u001b[0m label \u001b[38;5;241m=\u001b[39m exps_param[exp_str][\u001b[38;5;124m'\u001b[39m\u001b[38;5;124mlabel\u001b[39m\u001b[38;5;124m'\u001b[39m]\n\u001b[1;32m      4\u001b[0m mov_custom \u001b[38;5;241m=\u001b[39m Movie(ds, plotfunc\u001b[38;5;241m=\u001b[39mplotfunc_KE, pixelwidth\u001b[38;5;241m=\u001b[39mpw, pixelheight\u001b[38;5;241m=\u001b[39mph, input_check\u001b[38;5;241m=\u001b[39m\u001b[38;5;28;01mFalse\u001b[39;00m)\n\u001b[0;32m----> 5\u001b[0m \u001b[43mmov_custom\u001b[49m\u001b[38;5;241;43m.\u001b[39;49m\u001b[43msave\u001b[49m\u001b[43m(\u001b[49m\u001b[38;5;124;43m'\u001b[39;49m\u001b[38;5;124;43m/glade/u/home/noraloose/GL90_paper/movies/KE_\u001b[39;49m\u001b[38;5;132;43;01m%s\u001b[39;49;00m\u001b[38;5;124;43m.mp4\u001b[39;49m\u001b[38;5;124;43m'\u001b[39;49m\u001b[43m \u001b[49m\u001b[38;5;241;43m%\u001b[39;49m\u001b[43m(\u001b[49m\u001b[43mexp_str\u001b[49m\u001b[43m)\u001b[49m\u001b[43m,\u001b[49m\u001b[43m \u001b[49m\u001b[43moverwrite_existing\u001b[49m\u001b[38;5;241;43m=\u001b[39;49m\u001b[38;5;28;43;01mTrue\u001b[39;49;00m\u001b[43m)\u001b[49m\n",
      "File \u001b[0;32m/glade/work/noraloose/conda-envs/my_env3/lib/python3.9/site-packages/xmovie/core.py:555\u001b[0m, in \u001b[0;36mMovie.save\u001b[0;34m(self, filename, remove_frames, remove_movie, progress, verbose, overwrite_existing, parallel, parallel_compute_kwargs, framerate, ffmpeg_options, gif_palette, gif_resolution_factor, gif_framerate)\u001b[0m\n\u001b[1;32m    552\u001b[0m     \u001b[38;5;28mself\u001b[39m\u001b[38;5;241m.\u001b[39msave_frames_serial(dirname, progress\u001b[38;5;241m=\u001b[39mprogress)\n\u001b[1;32m    554\u001b[0m \u001b[38;5;66;03m# Create movie\u001b[39;00m\n\u001b[0;32m--> 555\u001b[0m \u001b[43mcombine_frames_into_movie\u001b[49m\u001b[43m(\u001b[49m\n\u001b[1;32m    556\u001b[0m \u001b[43m    \u001b[49m\u001b[43mdirname\u001b[49m\u001b[43m,\u001b[49m\n\u001b[1;32m    557\u001b[0m \u001b[43m    \u001b[49m\u001b[43mmoviefile\u001b[49m\u001b[43m,\u001b[49m\n\u001b[1;32m    558\u001b[0m \u001b[43m    \u001b[49m\u001b[43mframe_pattern\u001b[49m\u001b[38;5;241;43m=\u001b[39;49m\u001b[38;5;28;43mself\u001b[39;49m\u001b[38;5;241;43m.\u001b[39;49m\u001b[43mframe_pattern\u001b[49m\u001b[43m,\u001b[49m\n\u001b[1;32m    559\u001b[0m \u001b[43m    \u001b[49m\u001b[43mremove_frames\u001b[49m\u001b[38;5;241;43m=\u001b[39;49m\u001b[43mremove_frames\u001b[49m\u001b[43m,\u001b[49m\n\u001b[1;32m    560\u001b[0m \u001b[43m    \u001b[49m\u001b[43mverbose\u001b[49m\u001b[38;5;241;43m=\u001b[39;49m\u001b[43mverbose\u001b[49m\u001b[43m,\u001b[49m\n\u001b[1;32m    561\u001b[0m \u001b[43m    \u001b[49m\u001b[43mframerate\u001b[49m\u001b[38;5;241;43m=\u001b[39;49m\u001b[43mframerate\u001b[49m\u001b[43m,\u001b[49m\n\u001b[1;32m    562\u001b[0m \u001b[43m    \u001b[49m\u001b[43mffmpeg_options\u001b[49m\u001b[38;5;241;43m=\u001b[39;49m\u001b[43mffmpeg_options\u001b[49m\u001b[43m,\u001b[49m\n\u001b[1;32m    563\u001b[0m \u001b[43m\u001b[49m\u001b[43m)\u001b[49m\n\u001b[1;32m    565\u001b[0m \u001b[38;5;66;03m# Create gif\u001b[39;00m\n\u001b[1;32m    566\u001b[0m \u001b[38;5;28;01mif\u001b[39;00m isgif:\n\u001b[1;32m    567\u001b[0m     \u001b[38;5;66;03m# if ppath:\u001b[39;00m\n\u001b[1;32m    568\u001b[0m     \u001b[38;5;66;03m#     create_gif_palette(mpath, ppath=ppath, verbose=verbose)\u001b[39;00m\n",
      "File \u001b[0;32m/glade/work/noraloose/conda-envs/my_env3/lib/python3.9/site-packages/xmovie/core.py:211\u001b[0m, in \u001b[0;36mcombine_frames_into_movie\u001b[0;34m(sourcefolder, moviename, frame_pattern, remove_frames, verbose, ffmpeg_options, framerate)\u001b[0m\n\u001b[1;32m    198\u001b[0m \u001b[38;5;28;01mdef\u001b[39;00m \u001b[38;5;21mcombine_frames_into_movie\u001b[39m(\n\u001b[1;32m    199\u001b[0m     sourcefolder,\n\u001b[1;32m    200\u001b[0m     moviename,\n\u001b[0;32m   (...)\u001b[0m\n\u001b[1;32m    205\u001b[0m     framerate\u001b[38;5;241m=\u001b[39m\u001b[38;5;241m20\u001b[39m,\n\u001b[1;32m    206\u001b[0m ):\n\u001b[1;32m    208\u001b[0m     command \u001b[38;5;241m=\u001b[39m _combine_ffmpeg_command(\n\u001b[1;32m    209\u001b[0m         sourcefolder, moviename, framerate, frame_pattern, ffmpeg_options\n\u001b[1;32m    210\u001b[0m     )\n\u001b[0;32m--> 211\u001b[0m     p \u001b[38;5;241m=\u001b[39m \u001b[43m_check_ffmpeg_execute\u001b[49m\u001b[43m(\u001b[49m\u001b[43mcommand\u001b[49m\u001b[43m,\u001b[49m\u001b[43m \u001b[49m\u001b[43mverbose\u001b[49m\u001b[38;5;241;43m=\u001b[39;49m\u001b[43mverbose\u001b[49m\u001b[43m)\u001b[49m\n\u001b[1;32m    213\u001b[0m     \u001b[38;5;28mprint\u001b[39m(\u001b[38;5;124m\"\u001b[39m\u001b[38;5;124mMovie created at \u001b[39m\u001b[38;5;132;01m%s\u001b[39;00m\u001b[38;5;124m\"\u001b[39m \u001b[38;5;241m%\u001b[39m (moviename))\n\u001b[1;32m    214\u001b[0m     \u001b[38;5;28;01mif\u001b[39;00m remove_frames:\n",
      "File \u001b[0;32m/glade/work/noraloose/conda-envs/my_env3/lib/python3.9/site-packages/xmovie/core.py:136\u001b[0m, in \u001b[0;36m_check_ffmpeg_execute\u001b[0;34m(command, verbose)\u001b[0m\n\u001b[1;32m    134\u001b[0m \u001b[38;5;28;01melse\u001b[39;00m:\n\u001b[1;32m    135\u001b[0m     \u001b[38;5;28;01mtry\u001b[39;00m:\n\u001b[0;32m--> 136\u001b[0m         p \u001b[38;5;241m=\u001b[39m \u001b[43m_execute_command\u001b[49m\u001b[43m(\u001b[49m\u001b[43mcommand\u001b[49m\u001b[43m,\u001b[49m\u001b[43m \u001b[49m\u001b[43mverbose\u001b[49m\u001b[38;5;241;43m=\u001b[39;49m\u001b[43mverbose\u001b[49m\u001b[43m)\u001b[49m\n\u001b[1;32m    137\u001b[0m         \u001b[38;5;28;01mreturn\u001b[39;00m p\n\u001b[1;32m    138\u001b[0m     \u001b[38;5;28;01mexcept\u001b[39;00m \u001b[38;5;167;01mRuntimeError\u001b[39;00m:\n",
      "File \u001b[0;32m/glade/work/noraloose/conda-envs/my_env3/lib/python3.9/site-packages/xmovie/core.py:121\u001b[0m, in \u001b[0;36m_execute_command\u001b[0;34m(command, verbose, error)\u001b[0m\n\u001b[1;32m    119\u001b[0m             sys\u001b[38;5;241m.\u001b[39mstdout\u001b[38;5;241m.\u001b[39mflush()\n\u001b[1;32m    120\u001b[0m \u001b[38;5;28;01melse\u001b[39;00m:\n\u001b[0;32m--> 121\u001b[0m     \u001b[43mp\u001b[49m\u001b[38;5;241;43m.\u001b[39;49m\u001b[43mwait\u001b[49m\u001b[43m(\u001b[49m\u001b[43m)\u001b[49m\n\u001b[1;32m    122\u001b[0m \u001b[38;5;28;01mif\u001b[39;00m error:\n\u001b[1;32m    123\u001b[0m     \u001b[38;5;28;01mif\u001b[39;00m p\u001b[38;5;241m.\u001b[39mreturncode \u001b[38;5;241m!=\u001b[39m \u001b[38;5;241m0\u001b[39m:\n",
      "File \u001b[0;32m/glade/work/noraloose/conda-envs/my_env3/lib/python3.9/subprocess.py:1189\u001b[0m, in \u001b[0;36mPopen.wait\u001b[0;34m(self, timeout)\u001b[0m\n\u001b[1;32m   1187\u001b[0m     endtime \u001b[38;5;241m=\u001b[39m _time() \u001b[38;5;241m+\u001b[39m timeout\n\u001b[1;32m   1188\u001b[0m \u001b[38;5;28;01mtry\u001b[39;00m:\n\u001b[0;32m-> 1189\u001b[0m     \u001b[38;5;28;01mreturn\u001b[39;00m \u001b[38;5;28;43mself\u001b[39;49m\u001b[38;5;241;43m.\u001b[39;49m\u001b[43m_wait\u001b[49m\u001b[43m(\u001b[49m\u001b[43mtimeout\u001b[49m\u001b[38;5;241;43m=\u001b[39;49m\u001b[43mtimeout\u001b[49m\u001b[43m)\u001b[49m\n\u001b[1;32m   1190\u001b[0m \u001b[38;5;28;01mexcept\u001b[39;00m \u001b[38;5;167;01mKeyboardInterrupt\u001b[39;00m:\n\u001b[1;32m   1191\u001b[0m     \u001b[38;5;66;03m# https://bugs.python.org/issue25942\u001b[39;00m\n\u001b[1;32m   1192\u001b[0m     \u001b[38;5;66;03m# The first keyboard interrupt waits briefly for the child to\u001b[39;00m\n\u001b[1;32m   1193\u001b[0m     \u001b[38;5;66;03m# exit under the common assumption that it also received the ^C\u001b[39;00m\n\u001b[1;32m   1194\u001b[0m     \u001b[38;5;66;03m# generated SIGINT and will exit rapidly.\u001b[39;00m\n\u001b[1;32m   1195\u001b[0m     \u001b[38;5;28;01mif\u001b[39;00m timeout \u001b[38;5;129;01mis\u001b[39;00m \u001b[38;5;129;01mnot\u001b[39;00m \u001b[38;5;28;01mNone\u001b[39;00m:\n",
      "File \u001b[0;32m/glade/work/noraloose/conda-envs/my_env3/lib/python3.9/subprocess.py:1917\u001b[0m, in \u001b[0;36mPopen._wait\u001b[0;34m(self, timeout)\u001b[0m\n\u001b[1;32m   1915\u001b[0m \u001b[38;5;28;01mif\u001b[39;00m \u001b[38;5;28mself\u001b[39m\u001b[38;5;241m.\u001b[39mreturncode \u001b[38;5;129;01mis\u001b[39;00m \u001b[38;5;129;01mnot\u001b[39;00m \u001b[38;5;28;01mNone\u001b[39;00m:\n\u001b[1;32m   1916\u001b[0m     \u001b[38;5;28;01mbreak\u001b[39;00m  \u001b[38;5;66;03m# Another thread waited.\u001b[39;00m\n\u001b[0;32m-> 1917\u001b[0m (pid, sts) \u001b[38;5;241m=\u001b[39m \u001b[38;5;28;43mself\u001b[39;49m\u001b[38;5;241;43m.\u001b[39;49m\u001b[43m_try_wait\u001b[49m\u001b[43m(\u001b[49m\u001b[38;5;241;43m0\u001b[39;49m\u001b[43m)\u001b[49m\n\u001b[1;32m   1918\u001b[0m \u001b[38;5;66;03m# Check the pid and loop as waitpid has been known to\u001b[39;00m\n\u001b[1;32m   1919\u001b[0m \u001b[38;5;66;03m# return 0 even without WNOHANG in odd situations.\u001b[39;00m\n\u001b[1;32m   1920\u001b[0m \u001b[38;5;66;03m# http://bugs.python.org/issue14396.\u001b[39;00m\n\u001b[1;32m   1921\u001b[0m \u001b[38;5;28;01mif\u001b[39;00m pid \u001b[38;5;241m==\u001b[39m \u001b[38;5;28mself\u001b[39m\u001b[38;5;241m.\u001b[39mpid:\n",
      "File \u001b[0;32m/glade/work/noraloose/conda-envs/my_env3/lib/python3.9/subprocess.py:1875\u001b[0m, in \u001b[0;36mPopen._try_wait\u001b[0;34m(self, wait_flags)\u001b[0m\n\u001b[1;32m   1873\u001b[0m \u001b[38;5;124;03m\"\"\"All callers to this function MUST hold self._waitpid_lock.\"\"\"\u001b[39;00m\n\u001b[1;32m   1874\u001b[0m \u001b[38;5;28;01mtry\u001b[39;00m:\n\u001b[0;32m-> 1875\u001b[0m     (pid, sts) \u001b[38;5;241m=\u001b[39m \u001b[43mos\u001b[49m\u001b[38;5;241;43m.\u001b[39;49m\u001b[43mwaitpid\u001b[49m\u001b[43m(\u001b[49m\u001b[38;5;28;43mself\u001b[39;49m\u001b[38;5;241;43m.\u001b[39;49m\u001b[43mpid\u001b[49m\u001b[43m,\u001b[49m\u001b[43m \u001b[49m\u001b[43mwait_flags\u001b[49m\u001b[43m)\u001b[49m\n\u001b[1;32m   1876\u001b[0m \u001b[38;5;28;01mexcept\u001b[39;00m \u001b[38;5;167;01mChildProcessError\u001b[39;00m:\n\u001b[1;32m   1877\u001b[0m     \u001b[38;5;66;03m# This happens if SIGCLD is set to be ignored or waiting\u001b[39;00m\n\u001b[1;32m   1878\u001b[0m     \u001b[38;5;66;03m# for child processes has otherwise been disabled for our\u001b[39;00m\n\u001b[1;32m   1879\u001b[0m     \u001b[38;5;66;03m# process.  This child is dead, we can't get the status.\u001b[39;00m\n\u001b[1;32m   1880\u001b[0m     pid \u001b[38;5;241m=\u001b[39m \u001b[38;5;28mself\u001b[39m\u001b[38;5;241m.\u001b[39mpid\n",
      "\u001b[0;31mKeyboardInterrupt\u001b[0m: "
     ]
    }
   ],
   "source": [
    "exp_str = 'nw2_0.25deg_N15_KHTH800'\n",
    "ds = exps_param[exp_str]['ds']\n",
    "label = exps_param[exp_str]['label']\n",
    "mov_custom = Movie(ds, plotfunc=plotfunc_KE, pixelwidth=pw, pixelheight=ph, input_check=False)\n",
    "mov_custom.save('/glade/u/home/noraloose/GL90_paper/movies/KE_%s.mp4' %(exp_str), overwrite_existing=True)"
   ]
  },
  {
   "cell_type": "code",
   "execution_count": null,
   "metadata": {},
   "outputs": [],
   "source": [
    "exp_str = 'nw2_0.25deg_N15_KHGL300_hbbl5'\n",
    "ds = exps_param[exp_str]['ds']\n",
    "label = exps_param[exp_str]['label']\n",
    "mov_custom = Movie(ds, plotfunc=plotfunc_KE, pixelwidth=pw, pixelheight=ph, input_check=False)\n",
    "mov_custom.save('/glade/u/home/noraloose/GL90_paper/movies/KE_%s.mp4' %(exp_str), overwrite_existing=True)"
   ]
  },
  {
   "cell_type": "code",
   "execution_count": null,
   "metadata": {},
   "outputs": [],
   "source": [
    "exp_str = 'nw2_0.25deg_N15_KHGL800_hbbl5'\n",
    "ds = exps_param[exp_str]['ds'] \n",
    "label = exps_param[exp_str]['label']\n",
    "mov_custom = Movie(ds, plotfunc=plotfunc_KE, pixelwidth=pw, pixelheight=ph, input_check=False)\n",
    "mov_custom.save('/glade/u/home/noraloose/GL90_paper/movies/KE_%s.mp4' %(exp_str), overwrite_existing=True)"
   ]
  },
  {
   "cell_type": "markdown",
   "metadata": {},
   "source": [
    "### 1/8 degree"
   ]
  },
  {
   "cell_type": "code",
   "execution_count": null,
   "metadata": {},
   "outputs": [],
   "source": [
    "exp_str = 'nw2_0.125deg_N15_baseline_hmix20'\n",
    "ds = exps_unparam[exp_str]['ds']\n",
    "label = exps_unparam[exp_str]['label']\n",
    "mov_custom = Movie(ds, plotfunc=plotfunc_KE, pixelwidth=pw, pixelheight=ph, input_check=False)\n",
    "mov_custom.save('/glade/u/home/noraloose/GL90_paper/movies/KE_%s.mp4' %(exp_str), overwrite_existing=True)"
   ]
  },
  {
   "cell_type": "code",
   "execution_count": null,
   "metadata": {},
   "outputs": [],
   "source": [
    "exp_str = 'nw2_0.125deg_N15_KHTH100'\n",
    "ds = exps_param[exp_str]['ds'] \n",
    "label = exps_param[exp_str]['label']\n",
    "mov_custom = Movie(ds, plotfunc=plotfunc_KE, pixelwidth=pw, pixelheight=ph, input_check=False)\n",
    "mov_custom.save('/glade/u/home/noraloose/GL90_paper/movies/KE_%s.mp4' %(exp_str), overwrite_existing=True)"
   ]
  },
  {
   "cell_type": "code",
   "execution_count": null,
   "metadata": {},
   "outputs": [],
   "source": [
    "exp_str = 'nw2_0.125deg_N15_KHTH800'\n",
    "ds = exps_param[exp_str]['ds']\n",
    "label = exps_param[exp_str]['label']\n",
    "mov_custom = Movie(ds, plotfunc=plotfunc_KE, pixelwidth=pw, pixelheight=ph, input_check=False)\n",
    "mov_custom.save('/glade/u/home/noraloose/GL90_paper/movies/KE_%s.mp4' %(exp_str), overwrite_existing=True)"
   ]
  },
  {
   "cell_type": "code",
   "execution_count": null,
   "metadata": {},
   "outputs": [],
   "source": [
    "exp_str = 'nw2_0.125deg_N15_KHGL100_hbbl5'\n",
    "ds = exps_param[exp_str]['ds'] \n",
    "label = exps_param[exp_str]['label']\n",
    "mov_custom = Movie(ds, plotfunc=plotfunc_KE, pixelwidth=pw, pixelheight=ph, input_check=False)\n",
    "mov_custom.save('/glade/u/home/noraloose/GL90_paper/movies/KE_%s.mp4' %(exp_str), overwrite_existing=True)"
   ]
  },
  {
   "cell_type": "code",
   "execution_count": null,
   "metadata": {},
   "outputs": [],
   "source": [
    "exp_str = 'nw2_0.125deg_N15_KHGL800_hbbl5'\n",
    "ds = exps_param[exp_str]['ds']\n",
    "label = exps_param[exp_str]['label']\n",
    "mov_custom = Movie(ds, plotfunc=plotfunc_KE, pixelwidth=pw, pixelheight=ph, input_check=False)\n",
    "mov_custom.save('/glade/u/home/noraloose/GL90_paper/movies/KE_%s.mp4' %(exp_str), overwrite_existing=True)"
   ]
  },
  {
   "cell_type": "code",
   "execution_count": null,
   "metadata": {},
   "outputs": [],
   "source": []
  }
 ],
 "metadata": {
  "kernelspec": {
   "display_name": "my_env3",
   "language": "python",
   "name": "my_env3"
  },
  "language_info": {
   "codemirror_mode": {
    "name": "ipython",
    "version": 3
   },
   "file_extension": ".py",
   "mimetype": "text/x-python",
   "name": "python",
   "nbconvert_exporter": "python",
   "pygments_lexer": "ipython3",
   "version": "3.9.13"
  }
 },
 "nbformat": 4,
 "nbformat_minor": 4
}
